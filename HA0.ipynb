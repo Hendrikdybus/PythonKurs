{
 "cells": [
  {
   "cell_type": "markdown",
   "metadata": {},
   "source": [
    "# Hausaufgabe 0\n",
    "## Vorstellung der Gruppe\n",
    "<!-- Lizensiert unter (CC BY 4.0) Gert Herold -->\n",
    "\n",
    "Diese Hausaufgabe dient dem Kennenlernen der Gruppenmitglieder und der Programmierumgebung.\n",
    "Für alle zukünftigen Hausaufgaben (ab HA 1) buchen Sie bitte einen interaktiven Besprechungstermin mit einer Lehrperson.\n",
    "Die Abgabe *aller* Hausaufgaben geschieht in Form einer \\*.ipynb-Datei (wie dieser hier) über das ISIS-Portal.\n",
    "\n",
    "***\n",
    "Die Abgabefrist dieser HA ist **Mittwoch, der 24.4.2024**.\n",
    "***\n",
    "\n",
    "Falls Sie nicht rechtzeitig vor Abgabe Kontakt zu Ihrem zweiten Gruppenmitglied herstellen konnten, verwenden Sie für ein imaginäres Gruppenmitglied unten folgende Daten: \n",
    " - Name: Margaret Hamilton, Matrikelnr.: 170836, E-Mail: `margaret.hamilton.11@campus.tu-berlin.de`, Studiengang: Mathematik B.Sc.\n",
    "\n",
    "\n",
    "**1) Ergänzen Sie die Tabelle in der folgenden Markdown-Zelle mit Ihren Daten.** Ändern Sie außerdem den Namen dieser Datei, sodass er Ihre Gruppennummer enthält."
   ]
  },
  {
   "cell_type": "markdown",
   "metadata": {},
   "source": [
    "**Gruppe: ???**\n",
    "\n",
    "| Name      | Matrikelnr. | TUB E-Mail| Studiengang (+BSc/MSc?) |\n",
    "|-----------|-------------|-|-|\n",
    "| Hendrik Dybus  | 391675  | hendrik.dybus@campus.tu-berlin.de| Wirtschaftingenieurwesen (MSc) |\n",
    "| Mensch 2  | ??????  | ??@campus.tu-berlin.de| ??? |"
   ]
  },
  {
   "cell_type": "markdown",
   "metadata": {},
   "source": [
    "**2) Unter der Annahme, dass sich pro Semester durchschnittlich 2000 Studenten an der TU Berlin immatrikulieren, die eine neue (fortlaufende) Matrikelnummer zugewiesen bekommen: Wieviel Zeit $\\Delta t$ ist ungefähr zwischen der Einschreibung der beiden Teilnehmer Ihrer Gruppe vergangen?**\n",
    "Gehen Sie (ungeachtet der Realität) davon aus, dass sich die Einschreibungen gleichmäßig über ein Semester verteilen und nutzen Sie die folgende Zelle für die Berechnung."
   ]
  },
  {
   "cell_type": "code",
   "execution_count": 9,
   "metadata": {
    "tags": []
   },
   "outputs": [
    {
     "name": "stdout",
     "output_type": "stream",
     "text": [
      "Die ungefähre Zeit zwischen den Einschreibungen beträgt etwa 133.6 Tage.\n"
     ]
    }
   ],
   "source": [
    "# Hier eigenen Code schreiben bzw. folgende Zeile verändern ...\n",
    "def delta_t(matrikelnummer1, matrikelnummer2, avg_students_per_semester=2000):\n",
    "    # Annahme: Matrikelnummern sind fortlaufend\n",
    "    # Berechnung der Tage zwischen den Matrikelnummern\n",
    "    days_between_enrollments = abs(matrikelnummer2 - matrikelnummer1) / avg_students_per_semester\n",
    "    return days_between_enrollments\n",
    "\n",
    "# Matrikelnummern der beiden Teilnehmer\n",
    "matrikelnummer_teilnehmer1 = 391675\n",
    "matrikelnummer_teilnehmer2 = 124567\n",
    "\n",
    "# Berechnung der Zeit zwischen den Einschreibungen\n",
    "time_between = delta_t(matrikelnummer_teilnehmer1, matrikelnummer_teilnehmer2)\n",
    "\n",
    "print(f\"Die ungefähre Zeit zwischen den Einschreibungen beträgt etwa {time_between:.1f} Tage.\")\n"
   ]
  },
  {
   "cell_type": "markdown",
   "metadata": {},
   "source": [
    "Die nachfolgende Zelle soll nicht verändert werden. Sie enthält einen Plausibilitätstest, der den geschriebenen Code überprüft. Solche Code-Zellen werden Sie in den HAs immer wieder mal finden; lassen Sie sich davon nicht abschrecken bzw. erst dann, wenn beim Ausführen der Zelle eine Fehlermeldung erscheint. Wird die Zelle *ohne* Fehlermeldung ausgeführt, bedeutet das im Umkehrschluss jedoch *nicht*, dass ihr Programmcode auf jeden Fall fehlerfrei ist -- es ist lediglich ein erster Indiz."
   ]
  },
  {
   "cell_type": "code",
   "execution_count": 8,
   "metadata": {
    "deletable": false,
    "editable": false,
    "tags": []
   },
   "outputs": [],
   "source": [
    "# Hier ist mal ein einfacher Test, ob überhaupt was programmiert wurde:\n",
    "assert delta_t is not None # <- das verursacht eine Fehlermeldung, wenn delta_t doch noch None ist"
   ]
  },
  {
   "cell_type": "markdown",
   "metadata": {},
   "source": [
    "**3) Schreiben Sie einen kurzen Programmabschnitt, der eine Zeichenkette `zeichenkette` erzeugt, die so lang ist wie die Namen der Gruppenmitglieder (ohne Leerzeichen), aber als Zeichen anstelle der beiden Namen die letzten 2 Ziffern der Gruppennummer enthält.** Vermeiden Sie es, die Länge der Namen selbst auszuzählen oder die Ziffern der Gruppenzahl wiederholt einzutippen.\n",
    "\n",
    "Beispiel für eine Gruppe \"391\":\n",
    "```python\n",
    "name1 = \"AlanTuring\"\n",
    "name2 = \"MargaretHamilton\"\n",
    "```\n",
    "Gewünschtes Ergebnis:`'99999999991111111111111111'`\n"
   ]
  },
  {
   "cell_type": "code",
   "execution_count": 10,
   "metadata": {},
   "outputs": [
    {
     "name": "stdout",
     "output_type": "stream",
     "text": [
      "Gewünschtes Ergebnis: 252525252525252525252525252525\n"
     ]
    }
   ],
   "source": [
    "# Gruppennummer als String\n",
    "gruppennummer = \"125\"\n",
    "\n",
    "# Namen der Gruppenmitglieder\n",
    "name1 = \"Dybus\"\n",
    "name2 = \"Mustermann\"\n",
    "\n",
    "# Extrahiere die letzten 2 Ziffern der Gruppennummer\n",
    "letzte_zwei_ziffern = gruppennummer[-2:]\n",
    "\n",
    "# Kombiniere die Namen der Gruppenmitglieder zu einem einzigen Namen ohne Leerzeichen\n",
    "kombinierter_name = name1 + name2\n",
    "\n",
    "# Erzeuge eine Zeichenkette, die so lang ist wie die Länge des kombinierten Namens\n",
    "zeichenkette = letzte_zwei_ziffern * len(kombinierter_name)\n",
    "\n",
    "print(\"Gewünschtes Ergebnis:\", zeichenkette)\n"
   ]
  },
  {
   "cell_type": "code",
   "execution_count": 11,
   "metadata": {
    "deletable": false,
    "editable": false,
    "tags": []
   },
   "outputs": [
    {
     "ename": "AssertionError",
     "evalue": "",
     "output_type": "error",
     "traceback": [
      "\u001b[1;31m---------------------------------------------------------------------------\u001b[0m",
      "\u001b[1;31mAssertionError\u001b[0m                            Traceback (most recent call last)",
      "Cell \u001b[1;32mIn[11], line 2\u001b[0m\n\u001b[0;32m      1\u001b[0m \u001b[38;5;66;03m# Hier ist ein Test, der überprüft, ob das Ergebnis so viele Zeichen hat wie beide Namen zusammen:\u001b[39;00m\n\u001b[1;32m----> 2\u001b[0m \u001b[38;5;28;01massert\u001b[39;00m \u001b[38;5;28mlen\u001b[39m(zeichenkette) \u001b[38;5;241m==\u001b[39m \u001b[38;5;28mlen\u001b[39m(name1) \u001b[38;5;241m+\u001b[39m \u001b[38;5;28mlen\u001b[39m(name2)\n",
      "\u001b[1;31mAssertionError\u001b[0m: "
     ]
    }
   ],
   "source": [
    "# Hier ist ein Test, der überprüft, ob das Ergebnis so viele Zeichen hat wie beide Namen zusammen:\n",
    "assert len(zeichenkette) == len(name1) + len(name2)"
   ]
  },
  {
   "cell_type": "code",
   "execution_count": null,
   "metadata": {},
   "outputs": [],
   "source": []
  }
 ],
 "metadata": {
  "kernelspec": {
   "display_name": "Python 3 (ipykernel)",
   "language": "python",
   "name": "python3"
  },
  "language_info": {
   "codemirror_mode": {
    "name": "ipython",
    "version": 3
   },
   "file_extension": ".py",
   "mimetype": "text/x-python",
   "name": "python",
   "nbconvert_exporter": "python",
   "pygments_lexer": "ipython3",
   "version": "3.11.7"
  }
 },
 "nbformat": 4,
 "nbformat_minor": 4
}
